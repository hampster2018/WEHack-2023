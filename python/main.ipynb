{
 "cells": [
  {
   "cell_type": "code",
   "execution_count": 1,
   "metadata": {},
   "outputs": [],
   "source": [
    "## Some basic imports\n",
    "import numpy as np\n",
    "import matplotlib.pyplot as plt\n",
    "import pandas as pd\n",
    "import tensorflow as tf"
   ]
  },
  {
   "cell_type": "code",
   "execution_count": 2,
   "metadata": {},
   "outputs": [],
   "source": [
    "## Loading the dataset\n",
    "\n",
    "dataset = pd.read_csv(\"../parcelData/perfect.csv\")"
   ]
  },
  {
   "cell_type": "code",
   "execution_count": 3,
   "metadata": {},
   "outputs": [
    {
     "name": "stdout",
     "output_type": "stream",
     "text": [
      "      ll_gissqft  ll_gisacre    landval    parval  city_Dallas  \\\n",
      "0          15916     0.36537    40000.0    193080            1   \n",
      "1          12762     0.29297    63790.0    276580            1   \n",
      "2           8085     0.18559    35000.0    147410            1   \n",
      "3           7220     0.16575    25000.0    103660            1   \n",
      "4           9004     0.20670    22500.0    130710            1   \n",
      "...          ...         ...        ...       ...          ...   \n",
      "1659       14263     0.32743  1456560.0   2262870            0   \n",
      "1660       94676     2.17341  7358249.0  13717878            0   \n",
      "1661       18682     0.42886  1664640.0   2809080            0   \n",
      "1662       23281     0.53445  1414008.0   2676515            0   \n",
      "1663       18083     0.41512  1388758.0   2083135            0   \n",
      "\n",
      "      city_Philadelphia  city_Socal  useDesc_Commercial  \\\n",
      "0                     0           0                   0   \n",
      "1                     0           0                   0   \n",
      "2                     0           0                   0   \n",
      "3                     0           0                   0   \n",
      "4                     0           0                   0   \n",
      "...                 ...         ...                 ...   \n",
      "1659                  0           1                   0   \n",
      "1660                  0           1                   0   \n",
      "1661                  0           1                   0   \n",
      "1662                  0           1                   0   \n",
      "1663                  0           1                   0   \n",
      "\n",
      "      useDesc_Commercial Office Buildings  \\\n",
      "0                                       0   \n",
      "1                                       0   \n",
      "2                                       0   \n",
      "3                                       0   \n",
      "4                                       0   \n",
      "...                                   ...   \n",
      "1659                                    0   \n",
      "1660                                    0   \n",
      "1661                                    0   \n",
      "1662                                    0   \n",
      "1663                                    0   \n",
      "\n",
      "      useDesc_Commercial Store Combination  useDesc_Industrial Warehousing  \\\n",
      "0                                        0                               0   \n",
      "1                                        0                               0   \n",
      "2                                        0                               0   \n",
      "3                                        0                               0   \n",
      "4                                        0                               0   \n",
      "...                                    ...                             ...   \n",
      "1659                                     0                               1   \n",
      "1660                                     0                               1   \n",
      "1661                                     0                               1   \n",
      "1662                                     0                               1   \n",
      "1663                                     0                               1   \n",
      "\n",
      "      useDesc_None  useDesc_Residential  useDesc_Residential Single  \n",
      "0                0                    1                           0  \n",
      "1                0                    1                           0  \n",
      "2                0                    1                           0  \n",
      "3                0                    1                           0  \n",
      "4                0                    1                           0  \n",
      "...            ...                  ...                         ...  \n",
      "1659             0                    0                           0  \n",
      "1660             0                    0                           0  \n",
      "1661             0                    0                           0  \n",
      "1662             0                    0                           0  \n",
      "1663             0                    0                           0  \n",
      "\n",
      "[1664 rows x 14 columns]\n"
     ]
    }
   ],
   "source": [
    "dataset = pd.get_dummies(dataset, columns=['city'], prefix='city')\n",
    "dataset = pd.get_dummies(dataset, columns=['usedesc'], prefix=\"useDesc\")\n",
    "print(dataset)"
   ]
  },
  {
   "cell_type": "code",
   "execution_count": 66,
   "metadata": {},
   "outputs": [
    {
     "name": "stdout",
     "output_type": "stream",
     "text": [
      "Index(['ll_gissqft', 'll_gisacre', 'landval', 'parval', 'city_Dallas',\n",
      "       'city_Philadelphia', 'city_Socal', 'useDesc_Commercial',\n",
      "       'useDesc_Commercial Office Buildings',\n",
      "       'useDesc_Commercial Store Combination',\n",
      "       'useDesc_Industrial Warehousing', 'useDesc_None', 'useDesc_Residential',\n",
      "       'useDesc_Residential Single'],\n",
      "      dtype='object')\n"
     ]
    }
   ],
   "source": [
    "print(dataset.columns)"
   ]
  },
  {
   "cell_type": "code",
   "execution_count": 4,
   "metadata": {},
   "outputs": [
    {
     "name": "stdout",
     "output_type": "stream",
     "text": [
      "(1664, 13)\n"
     ]
    }
   ],
   "source": [
    "X = dataset.loc[:, dataset.columns != 'landval']\n",
    "y = dataset['landval']\n",
    "\n",
    "print(X.shape)"
   ]
  },
  {
   "cell_type": "code",
   "execution_count": 5,
   "metadata": {},
   "outputs": [],
   "source": [
    "from sklearn.model_selection import train_test_split\n",
    "X_train, X_test, y_train, y_test = train_test_split(X, y, test_size=0.15, random_state=101)"
   ]
  },
  {
   "cell_type": "code",
   "execution_count": 6,
   "metadata": {},
   "outputs": [],
   "source": [
    "from sklearn.preprocessing import StandardScaler\n",
    "s_scaler = StandardScaler()\n",
    "X_train = s_scaler.fit_transform(X_train)\n",
    "X_test = s_scaler.transform(X_test)"
   ]
  },
  {
   "cell_type": "code",
   "execution_count": 65,
   "metadata": {},
   "outputs": [
    {
     "ename": "TypeError",
     "evalue": "LinearRegression.fit() got an unexpected keyword argument 'callbacks'",
     "output_type": "error",
     "traceback": [
      "\u001b[1;31m---------------------------------------------------------------------------\u001b[0m",
      "\u001b[1;31mTypeError\u001b[0m                                 Traceback (most recent call last)",
      "Cell \u001b[1;32mIn[65], line 3\u001b[0m\n\u001b[0;32m      1\u001b[0m \u001b[39mfrom\u001b[39;00m \u001b[39msklearn\u001b[39;00m\u001b[39m.\u001b[39;00m\u001b[39mlinear_model\u001b[39;00m \u001b[39mimport\u001b[39;00m LinearRegression\n\u001b[0;32m      2\u001b[0m regressor \u001b[39m=\u001b[39m LinearRegression()  \n\u001b[1;32m----> 3\u001b[0m regressor\u001b[39m.\u001b[39;49mfit(X_train, y_train, callbacks\u001b[39m=\u001b[39;49m[callback])\n",
      "\u001b[1;31mTypeError\u001b[0m: LinearRegression.fit() got an unexpected keyword argument 'callbacks'"
     ]
    }
   ],
   "source": [
    "from sklearn.linear_model import LinearRegression\n",
    "regressor = LinearRegression()  \n",
    "regressor.fit(X_train, y_train)"
   ]
  },
  {
   "cell_type": "code",
   "execution_count": 8,
   "metadata": {},
   "outputs": [
    {
     "name": "stdout",
     "output_type": "stream",
     "text": [
      "263674.71801244287\n",
      "[ 1.96704462e+09 -1.96709463e+09  1.41912845e+06 -3.71513443e+18\n",
      " -2.71099377e+18  1.94625719e+18  5.30702864e+18 -4.57280219e+16\n",
      " -4.57280219e+16 -3.87923587e+17  8.44190360e+18  8.37543789e+18\n",
      " -1.81938626e+17]\n"
     ]
    }
   ],
   "source": [
    "print(regressor.intercept_)\n",
    "print(regressor.coef_)"
   ]
  },
  {
   "cell_type": "code",
   "execution_count": 9,
   "metadata": {},
   "outputs": [],
   "source": [
    "y_pred = regressor.predict(X_test)"
   ]
  },
  {
   "cell_type": "code",
   "execution_count": 11,
   "metadata": {},
   "outputs": [
    {
     "data": {
      "text/html": [
       "<div>\n",
       "<style scoped>\n",
       "    .dataframe tbody tr th:only-of-type {\n",
       "        vertical-align: middle;\n",
       "    }\n",
       "\n",
       "    .dataframe tbody tr th {\n",
       "        vertical-align: top;\n",
       "    }\n",
       "\n",
       "    .dataframe thead th {\n",
       "        text-align: right;\n",
       "    }\n",
       "</style>\n",
       "<table border=\"1\" class=\"dataframe\">\n",
       "  <thead>\n",
       "    <tr style=\"text-align: right;\">\n",
       "      <th></th>\n",
       "      <th>Actual</th>\n",
       "      <th>Predicted</th>\n",
       "    </tr>\n",
       "  </thead>\n",
       "  <tbody>\n",
       "    <tr>\n",
       "      <th>288</th>\n",
       "      <td>127400.0</td>\n",
       "      <td>34218.718012</td>\n",
       "    </tr>\n",
       "    <tr>\n",
       "      <th>1205</th>\n",
       "      <td>90000.0</td>\n",
       "      <td>165802.718012</td>\n",
       "    </tr>\n",
       "    <tr>\n",
       "      <th>1168</th>\n",
       "      <td>93750.0</td>\n",
       "      <td>82858.718012</td>\n",
       "    </tr>\n",
       "    <tr>\n",
       "      <th>758</th>\n",
       "      <td>26070.0</td>\n",
       "      <td>-4693.281988</td>\n",
       "    </tr>\n",
       "    <tr>\n",
       "      <th>489</th>\n",
       "      <td>40000.0</td>\n",
       "      <td>29610.718012</td>\n",
       "    </tr>\n",
       "    <tr>\n",
       "      <th>1124</th>\n",
       "      <td>135000.0</td>\n",
       "      <td>157610.718012</td>\n",
       "    </tr>\n",
       "    <tr>\n",
       "      <th>134</th>\n",
       "      <td>62730.0</td>\n",
       "      <td>113578.718012</td>\n",
       "    </tr>\n",
       "    <tr>\n",
       "      <th>1221</th>\n",
       "      <td>93750.0</td>\n",
       "      <td>132010.718012</td>\n",
       "    </tr>\n",
       "    <tr>\n",
       "      <th>1216</th>\n",
       "      <td>45000.0</td>\n",
       "      <td>-13909.281988</td>\n",
       "    </tr>\n",
       "    <tr>\n",
       "      <th>1498</th>\n",
       "      <td>15620.0</td>\n",
       "      <td>22442.718012</td>\n",
       "    </tr>\n",
       "  </tbody>\n",
       "</table>\n",
       "</div>"
      ],
      "text/plain": [
       "        Actual      Predicted\n",
       "288   127400.0   34218.718012\n",
       "1205   90000.0  165802.718012\n",
       "1168   93750.0   82858.718012\n",
       "758    26070.0   -4693.281988\n",
       "489    40000.0   29610.718012\n",
       "1124  135000.0  157610.718012\n",
       "134    62730.0  113578.718012\n",
       "1221   93750.0  132010.718012\n",
       "1216   45000.0  -13909.281988\n",
       "1498   15620.0   22442.718012"
      ]
     },
     "execution_count": 11,
     "metadata": {},
     "output_type": "execute_result"
    }
   ],
   "source": [
    "y_pred = regressor.predict(X_test)\n",
    "df = pd.DataFrame({'Actual': y_test, 'Predicted': y_pred})\n",
    "df1 = df.head(10)\n",
    "df1"
   ]
  },
  {
   "cell_type": "code",
   "execution_count": 12,
   "metadata": {},
   "outputs": [
    {
     "name": "stdout",
     "output_type": "stream",
     "text": [
      "MAE: 57472.45943331857\n",
      "MSE: 19752851955.29233\n",
      "RMSE: 140544.83966084395\n",
      "VarScore: 0.904876473553183\n"
     ]
    }
   ],
   "source": [
    "from sklearn import metrics\n",
    "print('MAE:', metrics.mean_absolute_error(y_test, y_pred))  \n",
    "print('MSE:', metrics.mean_squared_error(y_test, y_pred))  \n",
    "print('RMSE:', np.sqrt(metrics.mean_squared_error(y_test, y_pred)))\n",
    "print('VarScore:',metrics.explained_variance_score(y_test,y_pred))"
   ]
  },
  {
   "cell_type": "code",
   "execution_count": 47,
   "metadata": {},
   "outputs": [],
   "source": [
    "# Creating a Neural Network Model\n",
    "from tensorflow.keras.models import Sequential\n",
    "from tensorflow.keras.layers import Dense, Activation, Dropout\n",
    "from tensorflow.keras.optimizers import Adam"
   ]
  },
  {
   "cell_type": "code",
   "execution_count": 60,
   "metadata": {},
   "outputs": [],
   "source": [
    "# having 19 neuron is based on the number of available features\n",
    "model = Sequential()\n",
    "model.add(Dense(16,activation='relu'))\n",
    "model.add(Dense(19,activation='relu'))\n",
    "model.add(Dropout(.3, input_shape=(19,)))\n",
    "model.add(Dense(19,activation='relu'))\n",
    "model.add(Dropout(.3, input_shape=(19,)))\n",
    "model.add(Dense(16,activation='relu'))\n",
    "model.add(Dense(1))\n",
    "model.compile(optimizer='Adam',loss='mse')"
   ]
  },
  {
   "cell_type": "code",
   "execution_count": 61,
   "metadata": {},
   "outputs": [
    {
     "name": "stdout",
     "output_type": "stream",
     "text": [
      "Epoch 1/20\n",
      "89/89 [==============================] - 2s 4ms/step - loss: 2374737068032.0000 - val_loss: 222214930432.0000\n",
      "Epoch 2/20\n",
      "89/89 [==============================] - 0s 2ms/step - loss: 2374736281600.0000 - val_loss: 222214471680.0000\n",
      "Epoch 3/20\n",
      "89/89 [==============================] - 0s 2ms/step - loss: 2374731038720.0000 - val_loss: 222210637824.0000\n",
      "Epoch 4/20\n",
      "89/89 [==============================] - 0s 2ms/step - loss: 2374690668544.0000 - val_loss: 222179524608.0000\n",
      "Epoch 5/20\n",
      "89/89 [==============================] - 0s 2ms/step - loss: 2374499827712.0000 - val_loss: 222057037824.0000\n",
      "Epoch 6/20\n",
      "89/89 [==============================] - 0s 2ms/step - loss: 2373480873984.0000 - val_loss: 221629562880.0000\n",
      "Epoch 7/20\n",
      "89/89 [==============================] - 0s 2ms/step - loss: 2370872016896.0000 - val_loss: 220717137920.0000\n",
      "Epoch 8/20\n",
      "89/89 [==============================] - 0s 3ms/step - loss: 2366996217856.0000 - val_loss: 219290697728.0000\n",
      "Epoch 9/20\n",
      "89/89 [==============================] - 0s 2ms/step - loss: 2361011208192.0000 - val_loss: 216989335552.0000\n",
      "Epoch 10/20\n",
      "89/89 [==============================] - 0s 2ms/step - loss: 2352731652096.0000 - val_loss: 213777432576.0000\n",
      "Epoch 11/20\n",
      "89/89 [==============================] - 0s 2ms/step - loss: 2336465616896.0000 - val_loss: 208740188160.0000\n",
      "Epoch 12/20\n",
      "89/89 [==============================] - 0s 2ms/step - loss: 2323104137216.0000 - val_loss: 202939482112.0000\n",
      "Epoch 13/20\n",
      "89/89 [==============================] - 0s 2ms/step - loss: 2279108771840.0000 - val_loss: 194956656640.0000\n",
      "Epoch 14/20\n",
      "89/89 [==============================] - 0s 2ms/step - loss: 2259433291776.0000 - val_loss: 187019296768.0000\n",
      "Epoch 15/20\n",
      "89/89 [==============================] - 0s 2ms/step - loss: 2214463275008.0000 - val_loss: 178078498816.0000\n",
      "Epoch 16/20\n",
      "89/89 [==============================] - 0s 3ms/step - loss: 2192692477952.0000 - val_loss: 166481068032.0000\n",
      "Epoch 17/20\n",
      "89/89 [==============================] - 0s 3ms/step - loss: 2074403930112.0000 - val_loss: 152927895552.0000\n",
      "Epoch 18/20\n",
      "89/89 [==============================] - 0s 2ms/step - loss: 2037569159168.0000 - val_loss: 138769514496.0000\n",
      "Epoch 19/20\n",
      "89/89 [==============================] - 0s 3ms/step - loss: 1931251548160.0000 - val_loss: 126489001984.0000\n",
      "Epoch 20/20\n",
      "89/89 [==============================] - 0s 3ms/step - loss: 1861635932160.0000 - val_loss: 115115245568.0000\n",
      "Model: \"sequential_8\"\n",
      "_________________________________________________________________\n",
      " Layer (type)                Output Shape              Param #   \n",
      "=================================================================\n",
      " dense_35 (Dense)            (None, 16)                224       \n",
      "                                                                 \n",
      " dense_36 (Dense)            (None, 19)                323       \n",
      "                                                                 \n",
      " dropout_3 (Dropout)         (None, 19)                0         \n",
      "                                                                 \n",
      " dense_37 (Dense)            (None, 19)                380       \n",
      "                                                                 \n",
      " dropout_4 (Dropout)         (None, 19)                0         \n",
      "                                                                 \n",
      " dense_38 (Dense)            (None, 16)                320       \n",
      "                                                                 \n",
      " dense_39 (Dense)            (None, 1)                 17        \n",
      "                                                                 \n",
      "=================================================================\n",
      "Total params: 1,264\n",
      "Trainable params: 1,264\n",
      "Non-trainable params: 0\n",
      "_________________________________________________________________\n"
     ]
    }
   ],
   "source": [
    "model.fit(x=X_train,y=y_train,\n",
    "          validation_data=(X_test,y_test),\n",
    "          batch_size=16,epochs=20)\n",
    "model.summary()"
   ]
  },
  {
   "cell_type": "code",
   "execution_count": 62,
   "metadata": {},
   "outputs": [
    {
     "data": {
      "text/plain": [
       "<AxesSubplot: >"
      ]
     },
     "execution_count": 62,
     "metadata": {},
     "output_type": "execute_result"
    },
    {
     "data": {
      "image/png": "[encoded data removed]",
      "text/plain": [
       "<Figure size 1200x800 with 1 Axes>"
      ]
     },
     "metadata": {},
     "output_type": "display_data"
    }
   ],
   "source": [
    "loss_df = pd.DataFrame(model.history.history)\n",
    "loss_df.plot(figsize=(12,8))"
   ]
  },
  {
   "cell_type": "code",
   "execution_count": 63,
   "metadata": {},
   "outputs": [
    {
     "name": "stdout",
     "output_type": "stream",
     "text": [
      "8/8 [==============================] - 0s 1ms/step\n",
      "MAE: 77387.0535625\n",
      "MSE: 115115242221.96\n",
      "RMSE: 339286.3719956344\n",
      "VarScore: 0.44554639836458965\n"
     ]
    },
    {
     "data": {
      "text/plain": [
       "[<matplotlib.lines.Line2D at 0x258e9235f90>]"
      ]
     },
     "execution_count": 63,
     "metadata": {},
     "output_type": "execute_result"
    },
    {
     "data": {
      "image/png": "[encoded data removed]",
      "text/plain": [
       "<Figure size 1000x500 with 1 Axes>"
      ]
     },
     "metadata": {},
     "output_type": "display_data"
    }
   ],
   "source": [
    "y_pred = model.predict(X_test)\n",
    "from sklearn import metrics\n",
    "print('MAE:', metrics.mean_absolute_error(y_test, y_pred))  \n",
    "print('MSE:', metrics.mean_squared_error(y_test, y_pred))  \n",
    "print('RMSE:', np.sqrt(metrics.mean_squared_error(y_test, y_pred)))\n",
    "print('VarScore:',metrics.explained_variance_score(y_test,y_pred))\n",
    "# Visualizing Our predictions\n",
    "fig = plt.figure(figsize=(10,5))\n",
    "plt.scatter(y_test,y_pred)\n",
    "# Perfect predictions\n",
    "plt.plot(y_test,y_test,'r')"
   ]
  },
  {
   "cell_type": "code",
   "execution_count": null,
   "metadata": {},
   "outputs": [],
   "source": []
  }
 ],
 "metadata": {
  "kernelspec": {
   "display_name": "env",
   "language": "python",
   "name": "python3"
  },
  "language_info": {
   "codemirror_mode": {
    "name": "ipython",
    "version": 3
   },
   "file_extension": ".py",
   "mimetype": "text/x-python",
   "name": "python",
   "nbconvert_exporter": "python",
   "pygments_lexer": "ipython3",
   "version": "3.10.8"
  },
  "orig_nbformat": 4,
  "vscode": {
   "interpreter": {
    "hash": "5757b24d6f2c087b08b5643eae717903ae0f84ab364071998fc27a01bff12666"
   }
  }
 },
 "nbformat": 4,
 "nbformat_minor": 2
}
