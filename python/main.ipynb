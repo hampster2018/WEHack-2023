{
 "cells": [
  {
   "cell_type": "code",
   "execution_count": 1,
   "metadata": {},
   "outputs": [],
   "source": [
    "## Some basic imports\n",
    "import numpy as np\n",
    "import matplotlib.pyplot as plt\n",
    "import pandas as pd"
   ]
  },
  {
   "cell_type": "code",
   "execution_count": 2,
   "metadata": {},
   "outputs": [
    {
     "name": "stdout",
     "output_type": "stream",
     "text": [
      "                             owner                     mailadd  ll_gissqft  \\\n",
      "0          HARDY SAMANTHA GILMORE                 110 E 7TH ST       15916   \n",
      "1                   HUFFMAN JOHN E               321 S MAIN ST       12762   \n",
      "2     HUDSPETH STEVEN WAYNE EST OF               2505 W 6TH ST        8085   \n",
      "3     GONZALEZRIVERA SANTOS MARTIN           1205 ARROWHEAD DR        7220   \n",
      "4                  GOMEZ FREDDY J                 1438 ELMS RD        9004   \n",
      "...                            ...                         ...         ...   \n",
      "1556                DALLAS CITY OF             1500 MARILLA ST     4831855   \n",
      "1557             MLRP REGAL ROW LP   ONE PIERCE PLACE STE 450W      170753   \n",
      "1558                DALLAS CITY OF             1500 MARILLA ST        4650   \n",
      "1559           TGA ENTERPRISES INC     SUITE 120 151 REGAL ROW      450244   \n",
      "1560       DOGWOOD PROPCO TX II LP  345 CALIFORNIA ST STE 3300      468054   \n",
      "\n",
      "      ll_gisacre  landval   parval         parcelnumb qoz saledate  zoning  \\\n",
      "0        0.36537    40000   193080  323185500A0010000  No      NaN       1   \n",
      "1        0.29297    63790   276580           3.20E+16  No      NaN       1   \n",
      "2        0.18559    35000   147410           3.26E+16  No      NaN       1   \n",
      "3        0.16575    25000   103660           3.25E+16  No      NaN       1   \n",
      "4        0.20670    22500   130710           3.22E+16  No      NaN       1   \n",
      "...          ...      ...      ...                ...  ..      ...     ...   \n",
      "1556   110.92182   130050   130050           8.18E+11  No      NaN       8   \n",
      "1557     3.91987  1010860  3172580  007702000102A0000  No      NaN      17   \n",
      "1558     0.10675      110      110           6.51E+16  No      NaN       8   \n",
      "1559    10.33595        0   141330           9.99E+16  No      NaN      31   \n",
      "1560    10.74482  2385370  7417330           7.66E+11  No      NaN      17   \n",
      "\n",
      "          usedesc                       zoning_description  structno  \\\n",
      "0     Residential                 SINGLE FAMILY RESIDENCES       NaN   \n",
      "1     Residential                 SINGLE FAMILY RESIDENCES       NaN   \n",
      "2     Residential                 SINGLE FAMILY RESIDENCES       NaN   \n",
      "3     Residential                 SINGLE FAMILY RESIDENCES       NaN   \n",
      "4     Residential                 SINGLE FAMILY RESIDENCES       NaN   \n",
      "...           ...                                      ...       ...   \n",
      "1556   Commercial  COMMERCIAL - VACANT PLOTTED LOTS/TRACTS       NaN   \n",
      "1557   Commercial                  COMMERCIAL IMPROVEMENTS       NaN   \n",
      "1558   Commercial  COMMERCIAL - VACANT PLOTTED LOTS/TRACTS       NaN   \n",
      "1559          BPP                           COMMERCIAL BPP       NaN   \n",
      "1560   Commercial                  COMMERCIAL IMPROVEMENTS       NaN   \n",
      "\n",
      "      numstories  taxamt    City  \n",
      "0              0       0  Dallas  \n",
      "1              0       0  Dallas  \n",
      "2              0       0  Dallas  \n",
      "3              0       0  Dallas  \n",
      "4              0       0  Dallas  \n",
      "...          ...     ...     ...  \n",
      "1556           0       0   Socal  \n",
      "1557           0       0   Socal  \n",
      "1558           0       0   Socal  \n",
      "1559           0       0   Socal  \n",
      "1560           0       0   Socal  \n",
      "\n",
      "[4683 rows x 16 columns]\n"
     ]
    }
   ],
   "source": [
    "## Loading the datasets\n",
    "\n",
    "dallas = pd.read_json('../Demographic/Dallas.json/Dallas.json')\n",
    "losAngeles = pd.read_json('../Demographic/Los Angeles.json/Los Angeles.json')\n",
    "philadelphia = pd.read_json('../Demographic/Philadelphia.json/Philadelphia.json')\n",
    "\n",
    "jsonDatasets = [dallas, losAngeles, philadelphia]\n",
    "\n",
    "parcelDallas = pd.read_csv('../parcelData/cleanDallas.csv')\n",
    "parcelPhiladelphia = pd.read_csv('../parcelData/cleanPhiladelphia.csv')\n",
    "parcelSocal = pd.read_csv('../parcelData/cleanSocal.csv')\n",
    "\n",
    "parcelDallas['City'] = 'Dallas'\n",
    "parcelPhiladelphia['City'] = 'Philadelpia'\n",
    "parcelSocal['City'] = 'Socal'\n",
    "\n",
    "parcelCombined = pd.concat([parcelDallas, parcelPhiladelphia, parcelSocal])\n",
    "\n",
    "print(parcelCombined)"
   ]
  },
  {
   "cell_type": "code",
   "execution_count": 3,
   "metadata": {},
   "outputs": [
    {
     "name": "stdout",
     "output_type": "stream",
     "text": [
      "      ll_gissqft  ll_gisacre  landval   parval  zoning  numstories  taxamt  \\\n",
      "0          15916     0.36537    40000   193080       1           0       0   \n",
      "1          12762     0.29297    63790   276580       1           0       0   \n",
      "2           8085     0.18559    35000   147410       1           0       0   \n",
      "3           7220     0.16575    25000   103660       1           0       0   \n",
      "4           9004     0.20670    22500   130710       1           0       0   \n",
      "...          ...         ...      ...      ...     ...         ...     ...   \n",
      "1556     4831855   110.92182   130050   130050       8           0       0   \n",
      "1557      170753     3.91987  1010860  3172580      17           0       0   \n",
      "1558        4650     0.10675      110      110       8           0       0   \n",
      "1559      450244    10.33595        0   141330      31           0       0   \n",
      "1560      468054    10.74482  2385370  7417330      17           0       0   \n",
      "\n",
      "        City  \n",
      "0     Dallas  \n",
      "1     Dallas  \n",
      "2     Dallas  \n",
      "3     Dallas  \n",
      "4     Dallas  \n",
      "...      ...  \n",
      "1556   Socal  \n",
      "1557   Socal  \n",
      "1558   Socal  \n",
      "1559   Socal  \n",
      "1560   Socal  \n",
      "\n",
      "[4683 rows x 8 columns]\n"
     ]
    }
   ],
   "source": [
    "parcelCombined = parcelCombined.drop(['owner', 'mailadd', 'parcelnumb', 'qoz', 'saledate', 'zoning_description', 'structno', 'usedesc'], axis=1)\n",
    "print(parcelCombined)"
   ]
  },
  {
   "cell_type": "code",
   "execution_count": 4,
   "metadata": {},
   "outputs": [
    {
     "name": "stdout",
     "output_type": "stream",
     "text": [
      "      ll_gissqft  ll_gisacre  landval   parval  numstories  taxamt  zone_0  \\\n",
      "0          15916     0.36537    40000   193080           0       0       0   \n",
      "1          12762     0.29297    63790   276580           0       0       0   \n",
      "2           8085     0.18559    35000   147410           0       0       0   \n",
      "3           7220     0.16575    25000   103660           0       0       0   \n",
      "4           9004     0.20670    22500   130710           0       0       0   \n",
      "...          ...         ...      ...      ...         ...     ...     ...   \n",
      "1556     4831855   110.92182   130050   130050           0       0       0   \n",
      "1557      170753     3.91987  1010860  3172580           0       0       0   \n",
      "1558        4650     0.10675      110      110           0       0       0   \n",
      "1559      450244    10.33595        0   141330           0       0       0   \n",
      "1560      468054    10.74482  2385370  7417330           0       0       0   \n",
      "\n",
      "      zone_1  zone_2  zone_5  ...  zone_7  zone_8  zone_11  zone_17  zone_24  \\\n",
      "0          1       0       0  ...       0       0        0        0        0   \n",
      "1          1       0       0  ...       0       0        0        0        0   \n",
      "2          1       0       0  ...       0       0        0        0        0   \n",
      "3          1       0       0  ...       0       0        0        0        0   \n",
      "4          1       0       0  ...       0       0        0        0        0   \n",
      "...      ...     ...     ...  ...     ...     ...      ...      ...      ...   \n",
      "1556       0       0       0  ...       0       1        0        0        0   \n",
      "1557       0       0       0  ...       0       0        0        1        0   \n",
      "1558       0       0       0  ...       0       1        0        0        0   \n",
      "1559       0       0       0  ...       0       0        0        0        0   \n",
      "1560       0       0       0  ...       0       0        0        1        0   \n",
      "\n",
      "      zone_31  zone_46  zone_Dallas  zone_Philadelpia  zone_Socal  \n",
      "0           0        0            1                 0           0  \n",
      "1           0        0            1                 0           0  \n",
      "2           0        0            1                 0           0  \n",
      "3           0        0            1                 0           0  \n",
      "4           0        0            1                 0           0  \n",
      "...       ...      ...          ...               ...         ...  \n",
      "1556        0        0            0                 0           1  \n",
      "1557        0        0            0                 0           1  \n",
      "1558        0        0            0                 0           1  \n",
      "1559        1        0            0                 0           1  \n",
      "1560        0        0            0                 0           1  \n",
      "\n",
      "[4683 rows x 21 columns]\n"
     ]
    }
   ],
   "source": [
    "from sklearn.preprocessing import OneHotEncoder\n",
    "\n",
    "parcelCombined = pd.get_dummies(parcelCombined, columns=['zoning'], prefix='zone')\n",
    "parcelCombined = pd.get_dummies(parcelCombined, columns=['City'], prefix='zone')\n",
    "print(parcelCombined)"
   ]
  },
  {
   "cell_type": "code",
   "execution_count": 8,
   "metadata": {},
   "outputs": [],
   "source": [
    "X = parcelCombined.loc[:, parcelCombined.columns != 'landval']\n",
    "y = parcelCombined['landval']"
   ]
  },
  {
   "cell_type": "code",
   "execution_count": 10,
   "metadata": {},
   "outputs": [],
   "source": [
    "from sklearn.model_selection import train_test_split\n",
    "\n",
    "\n",
    "\n",
    "X_train, X_test, y_train, y_test = train_test_split(X, y, test_size=.8, random_state=1)"
   ]
  },
  {
   "cell_type": "code",
   "execution_count": 11,
   "metadata": {},
   "outputs": [],
   "source": [
    "# Start putting together the neural network \n",
    "import keras\n",
    "from keras.models import Sequential\n",
    "from keras.layers import Dense\n",
    "from keras import Input"
   ]
  },
  {
   "cell_type": "code",
   "execution_count": null,
   "metadata": {},
   "outputs": [],
   "source": [
    "# Declare the classifier\n",
    "classifier = Sequential()"
   ]
  },
  {
   "cell_type": "code",
   "execution_count": null,
   "metadata": {},
   "outputs": [],
   "source": [
    "# TODO - Add the incoming shape\n",
    "classifier.add(Input(shape=21))\n",
    "classifier.add(Dense(units=11, activation='relu'))\n",
    "classifier.add(Dense(units=11, activation='relu'))\n",
    "classifier.add(Dense(units=1))\n",
    "\n",
    "classifier.summary()"
   ]
  },
  {
   "cell_type": "code",
   "execution_count": null,
   "metadata": {},
   "outputs": [],
   "source": [
    "# Compile the model\n",
    "classifier.compile(optimizer = 'adam', loss = 'binary_crossentropy', metrics = ['accuracy'])"
   ]
  },
  {
   "cell_type": "code",
   "execution_count": null,
   "metadata": {},
   "outputs": [],
   "source": [
    "# Train the model\n",
    "classifier.fit(X_train, Y_train, batch_size = 10, nb_epoch = 100)"
   ]
  },
  {
   "cell_type": "code",
   "execution_count": null,
   "metadata": {},
   "outputs": [],
   "source": [
    "result = classifier.predict(X_test)"
   ]
  },
  {
   "cell_type": "code",
   "execution_count": null,
   "metadata": {},
   "outputs": [],
   "source": [
    "# Split into training sets \n",
    "\n",
    "X_train, X_test, Y_train, Y_test = pd.DataFrame()\n",
    "for dataset in jsonDatasets:\n",
    "    temp_X_train, temp_X_test, temp_Y_train, temp_Y_test = getTrainSplit(dataset)\n",
    "\n",
    "    X_train = pd.concat([X_train, temp_X_train], ignore_index=True)\n",
    "    X_test = pd.concat([X_test, temp_X_test], ignore_index=True)\n",
    "    Y_train = pd.concat([Y_train, temp_Y_train], ignore_index=True)\n",
    "    Y_test = pd.concat([Y_test, temp_Y_test], ignore_index=True)\n",
    "\n"
   ]
  }
 ],
 "metadata": {
  "kernelspec": {
   "display_name": "env",
   "language": "python",
   "name": "python3"
  },
  "language_info": {
   "codemirror_mode": {
    "name": "ipython",
    "version": 3
   },
   "file_extension": ".py",
   "mimetype": "text/x-python",
   "name": "python",
   "nbconvert_exporter": "python",
   "pygments_lexer": "ipython3",
   "version": "3.10.8"
  },
  "orig_nbformat": 4,
  "vscode": {
   "interpreter": {
    "hash": "5757b24d6f2c087b08b5643eae717903ae0f84ab364071998fc27a01bff12666"
   }
  }
 },
 "nbformat": 4,
 "nbformat_minor": 2
}
