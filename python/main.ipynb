{
 "cells": [
  {
   "cell_type": "code",
   "execution_count": 1,
   "metadata": {},
   "outputs": [],
   "source": [
    "## Some basic imports\n",
    "import numpy as np\n",
    "import matplotlib.pyplot as plt\n",
    "import pandas as pd"
   ]
  },
  {
   "cell_type": "code",
   "execution_count": 3,
   "metadata": {},
   "outputs": [],
   "source": [
    "## Loading the datasets\n",
    "\n",
    "dallas = pd.read_json('../Demographic/Dallas.json/Dallas.json')\n",
    "losAngeles = pd.read_json('../Demographic/Los Angeles.json/Los Angeles.json')\n",
    "philadelphia = pd.read_json('../Demographic/Philadelphia.json/Philadelphia.json')\n",
    "\n",
    "jsonDatasets = [dallas, losAngeles, philadelphia]\n",
    "\n",
    "parcelDallas = pd.read_csv('../parcelData/cleanDallas.csv')\n",
    "parcelPhiladelphia = pd.read_csv('../parcelData/cleanPhiladelphia.csv')\n",
    "parcelSocal = pd.read_csv('../parcelData/cleanSocal.csv')\n",
    "\n",
    "parcelDallas['City'] = 'Dallas'\n",
    "parcelPhiladelphia['City'] = 'Philadelpia'\n",
    "parcelSocal['City'] = 'Socal'\n",
    "\n",
    "parcelDallas['recrdareano'] = 0\n",
    "parcelDallas['saleprice'] = 0\n",
    "parcelDallas['numstories'] = 0\n",
    "parcelDallas['taxamt'] = 0\n",
    "\n",
    "parcelSocal['numstories'] = 0\n",
    "parcelSocal['taxamt'] = 0\n",
    "\n",
    "parcelCombined = pd.concat([parcelDallas, parcelPhiladelphia, parcelSocal])"
   ]
  },
  {
   "cell_type": "code",
   "execution_count": 4,
   "metadata": {},
   "outputs": [
    {
     "name": "stdout",
     "output_type": "stream",
     "text": [
      "     ll_gissqft  ll_gisacre  landval   parval    City  recrdareano  saleprice  \\\n",
      "0         15916     0.36537    40000   193080  Dallas            0        0.0   \n",
      "1         12762     0.29297    63790   276580  Dallas            0        0.0   \n",
      "2          8085     0.18559    35000   147410  Dallas            0        0.0   \n",
      "3          7220     0.16575    25000   103660  Dallas            0        0.0   \n",
      "4          9004     0.20670    22500   130710  Dallas            0        0.0   \n",
      "..          ...         ...      ...      ...     ...          ...        ...   \n",
      "259       58397     1.34057   360519  1162088   Socal        42235        0.0   \n",
      "260       18682     0.42886  1664640  2809080   Socal         9638  2700027.0   \n",
      "261       23281     0.53445  1414008  2676515   Socal        11002  2120021.0   \n",
      "262        8374     0.19224    51494    82883   Socal         1960       -1.0   \n",
      "263       18083     0.41512  1388758  2083135   Socal         8620  1650016.0   \n",
      "\n",
      "     numstories  taxamt  \n",
      "0             0       0  \n",
      "1             0       0  \n",
      "2             0       0  \n",
      "3             0       0  \n",
      "4             0       0  \n",
      "..          ...     ...  \n",
      "259           0       0  \n",
      "260           0       0  \n",
      "261           0       0  \n",
      "262           0       0  \n",
      "263           0       0  \n",
      "\n",
      "[3978 rows x 9 columns]\n"
     ]
    }
   ],
   "source": [
    "parcelCombined = parcelCombined.drop(['owner', 'owner2', 'owner3', 'mailadd', 'parcelnumb', 'qoz', 'saledate', 'zoning_description', 'structno', 'usedesc', 'zoning'], axis=1)\n",
    "print(parcelCombined)"
   ]
  },
  {
   "cell_type": "code",
   "execution_count": 5,
   "metadata": {},
   "outputs": [
    {
     "name": "stdout",
     "output_type": "stream",
     "text": [
      "     ll_gissqft  ll_gisacre  landval   parval  recrdareano  saleprice  \\\n",
      "0         15916     0.36537    40000   193080            0        0.0   \n",
      "1         12762     0.29297    63790   276580            0        0.0   \n",
      "2          8085     0.18559    35000   147410            0        0.0   \n",
      "3          7220     0.16575    25000   103660            0        0.0   \n",
      "4          9004     0.20670    22500   130710            0        0.0   \n",
      "..          ...         ...      ...      ...          ...        ...   \n",
      "259       58397     1.34057   360519  1162088        42235        0.0   \n",
      "260       18682     0.42886  1664640  2809080         9638  2700027.0   \n",
      "261       23281     0.53445  1414008  2676515        11002  2120021.0   \n",
      "262        8374     0.19224    51494    82883         1960       -1.0   \n",
      "263       18083     0.41512  1388758  2083135         8620  1650016.0   \n",
      "\n",
      "     numstories  taxamt  zone_Dallas  zone_Philadelpia  zone_Socal  \n",
      "0             0       0            1                 0           0  \n",
      "1             0       0            1                 0           0  \n",
      "2             0       0            1                 0           0  \n",
      "3             0       0            1                 0           0  \n",
      "4             0       0            1                 0           0  \n",
      "..          ...     ...          ...               ...         ...  \n",
      "259           0       0            0                 0           1  \n",
      "260           0       0            0                 0           1  \n",
      "261           0       0            0                 0           1  \n",
      "262           0       0            0                 0           1  \n",
      "263           0       0            0                 0           1  \n",
      "\n",
      "[3978 rows x 11 columns]\n"
     ]
    }
   ],
   "source": [
    "from sklearn.preprocessing import OneHotEncoder\n",
    "\n",
    "#parcelCombined = pd.get_dummies(parcelCombined, columns=['City'], prefix='zone')\n",
    "#print(parcelCombined)"
   ]
  },
  {
   "cell_type": "code",
   "execution_count": 6,
   "metadata": {},
   "outputs": [],
   "source": [
    "X = parcelCombined.loc[:, parcelCombined.columns != 'landval']\n",
    "y = parcelCombined['landval']"
   ]
  },
  {
   "cell_type": "code",
   "execution_count": 7,
   "metadata": {},
   "outputs": [],
   "source": [
    "from sklearn.model_selection import train_test_split\n",
    "\n",
    "\n",
    "X_train, X_test, y_train, y_test = train_test_split(X, y, test_size=.8, random_state=1)"
   ]
  },
  {
   "cell_type": "code",
   "execution_count": 8,
   "metadata": {},
   "outputs": [],
   "source": [
    "from sklearn.preprocessing import StandardScaler\n",
    "sc = StandardScaler()\n",
    "X_train = sc.fit_transform(X_train)\n",
    "X_test = sc.transform(X_test)"
   ]
  },
  {
   "cell_type": "code",
   "execution_count": 9,
   "metadata": {},
   "outputs": [],
   "source": [
    "# Start putting together the neural network \n",
    "import keras\n",
    "from keras.models import Sequential\n",
    "from keras.layers import Dense\n",
    "from keras import Input"
   ]
  },
  {
   "cell_type": "code",
   "execution_count": 25,
   "metadata": {},
   "outputs": [],
   "source": [
    "# Declare the classifier\n",
    "classifier = Sequential()"
   ]
  },
  {
   "cell_type": "code",
   "execution_count": 26,
   "metadata": {},
   "outputs": [
    {
     "name": "stdout",
     "output_type": "stream",
     "text": [
      "Model: \"sequential_4\"\n",
      "_________________________________________________________________\n",
      " Layer (type)                Output Shape              Param #   \n",
      "=================================================================\n",
      " dense_16 (Dense)            (None, 25)                275       \n",
      "                                                                 \n",
      " dense_17 (Dense)            (None, 25)                650       \n",
      "                                                                 \n",
      " dense_18 (Dense)            (None, 25)                650       \n",
      "                                                                 \n",
      " dense_19 (Dense)            (None, 1)                 26        \n",
      "                                                                 \n",
      "=================================================================\n",
      "Total params: 1,601\n",
      "Trainable params: 1,601\n",
      "Non-trainable params: 0\n",
      "_________________________________________________________________\n"
     ]
    }
   ],
   "source": [
    "# TODO - Add the incoming shape\n",
    "classifier.add(Input(shape=10))\n",
    "classifier.add(Dense(units=25, activation='relu'))\n",
    "classifier.add(Dense(units=25, activation='relu'))\n",
    "classifier.add(Dense(units=25, activation='relu'))\n",
    "classifier.add(Dense(units=1, activation=\"sigmoid\"))\n",
    "\n",
    "classifier.summary()"
   ]
  },
  {
   "cell_type": "code",
   "execution_count": 27,
   "metadata": {},
   "outputs": [],
   "source": [
    "# Compile the model\n",
    "classifier.compile(optimizer = 'adam', loss = 'binary_crossentropy', metrics = ['accuracy'])"
   ]
  },
  {
   "cell_type": "code",
   "execution_count": 28,
   "metadata": {},
   "outputs": [
    {
     "name": "stdout",
     "output_type": "stream",
     "text": [
      "Epoch 1/33\n",
      "159/159 [==============================] - 1s 2ms/step - loss: -1009254.5625 - accuracy: 0.0000e+00\n",
      "Epoch 2/33\n",
      "159/159 [==============================] - 0s 2ms/step - loss: -8047685.0000 - accuracy: 0.0000e+00\n",
      "Epoch 3/33\n",
      "159/159 [==============================] - 0s 2ms/step - loss: -30715182.0000 - accuracy: 0.0000e+00\n",
      "Epoch 4/33\n",
      "159/159 [==============================] - 0s 2ms/step - loss: -88695504.0000 - accuracy: 0.0000e+00\n",
      "Epoch 5/33\n",
      "159/159 [==============================] - 0s 2ms/step - loss: -218486224.0000 - accuracy: 0.0000e+00\n",
      "Epoch 6/33\n",
      "159/159 [==============================] - 0s 1ms/step - loss: -463296192.0000 - accuracy: 0.0000e+00\n",
      "Epoch 7/33\n",
      "159/159 [==============================] - 0s 2ms/step - loss: -835099968.0000 - accuracy: 0.0000e+00\n",
      "Epoch 8/33\n",
      "159/159 [==============================] - 0s 2ms/step - loss: -1418576640.0000 - accuracy: 0.0000e+00\n",
      "Epoch 9/33\n",
      "159/159 [==============================] - 0s 2ms/step - loss: -2210345216.0000 - accuracy: 0.0000e+00\n",
      "Epoch 10/33\n",
      "159/159 [==============================] - 0s 2ms/step - loss: -3269530880.0000 - accuracy: 0.0000e+00\n",
      "Epoch 11/33\n",
      "159/159 [==============================] - 0s 2ms/step - loss: -4675122176.0000 - accuracy: 0.0000e+00\n",
      "Epoch 12/33\n",
      "159/159 [==============================] - 0s 2ms/step - loss: -6456538112.0000 - accuracy: 0.0000e+00\n",
      "Epoch 13/33\n",
      "159/159 [==============================] - 0s 2ms/step - loss: -8643203072.0000 - accuracy: 0.0000e+00\n",
      "Epoch 14/33\n",
      "159/159 [==============================] - 0s 2ms/step - loss: -11204009984.0000 - accuracy: 0.0000e+00\n",
      "Epoch 15/33\n",
      "159/159 [==============================] - 0s 2ms/step - loss: -14231318528.0000 - accuracy: 0.0000e+00\n",
      "Epoch 16/33\n",
      "159/159 [==============================] - 0s 2ms/step - loss: -17861316608.0000 - accuracy: 0.0000e+00\n",
      "Epoch 17/33\n",
      "159/159 [==============================] - 0s 2ms/step - loss: -22085888000.0000 - accuracy: 0.0000e+00\n",
      "Epoch 18/33\n",
      "159/159 [==============================] - 0s 2ms/step - loss: -26915389440.0000 - accuracy: 0.0000e+00\n",
      "Epoch 19/33\n",
      "159/159 [==============================] - 0s 2ms/step - loss: -32291954688.0000 - accuracy: 0.0000e+00\n",
      "Epoch 20/33\n",
      "159/159 [==============================] - 0s 2ms/step - loss: -37898756096.0000 - accuracy: 0.0000e+00\n",
      "Epoch 21/33\n",
      "159/159 [==============================] - 0s 2ms/step - loss: -44726685696.0000 - accuracy: 0.0000e+00\n",
      "Epoch 22/33\n",
      "159/159 [==============================] - 0s 2ms/step - loss: -52787363840.0000 - accuracy: 0.0000e+00\n",
      "Epoch 23/33\n",
      "159/159 [==============================] - 0s 2ms/step - loss: -61242793984.0000 - accuracy: 0.0000e+00\n",
      "Epoch 24/33\n",
      "159/159 [==============================] - 0s 2ms/step - loss: -70893649920.0000 - accuracy: 0.0000e+00\n",
      "Epoch 25/33\n",
      "159/159 [==============================] - 0s 2ms/step - loss: -81175904256.0000 - accuracy: 0.0000e+00\n",
      "Epoch 26/33\n",
      "159/159 [==============================] - 0s 2ms/step - loss: -92636692480.0000 - accuracy: 0.0000e+00\n",
      "Epoch 27/33\n",
      "159/159 [==============================] - 0s 2ms/step - loss: -104894955520.0000 - accuracy: 0.0000e+00\n",
      "Epoch 28/33\n",
      "159/159 [==============================] - 0s 1ms/step - loss: -118080512000.0000 - accuracy: 0.0000e+00\n",
      "Epoch 29/33\n",
      "159/159 [==============================] - 0s 2ms/step - loss: -132356415488.0000 - accuracy: 0.0000e+00\n",
      "Epoch 30/33\n",
      "159/159 [==============================] - 0s 1ms/step - loss: -147953532928.0000 - accuracy: 0.0000e+00\n",
      "Epoch 31/33\n",
      "159/159 [==============================] - 0s 1ms/step - loss: -164882006016.0000 - accuracy: 0.0000e+00\n",
      "Epoch 32/33\n",
      "159/159 [==============================] - 0s 2ms/step - loss: -183807426560.0000 - accuracy: 0.0000e+00\n",
      "Epoch 33/33\n",
      "159/159 [==============================] - 0s 1ms/step - loss: -202533683200.0000 - accuracy: 0.0000e+00\n"
     ]
    },
    {
     "data": {
      "text/plain": [
       "<keras.callbacks.History at 0x2405f2cefb0>"
      ]
     },
     "execution_count": 28,
     "metadata": {},
     "output_type": "execute_result"
    }
   ],
   "source": [
    "# Train the model\n",
    "classifier.fit(X_train, y_train, batch_size = 5, epochs = 33)"
   ]
  },
  {
   "cell_type": "code",
   "execution_count": 32,
   "metadata": {},
   "outputs": [
    {
     "name": "stdout",
     "output_type": "stream",
     "text": [
      "100/100 [==============================] - 0s 1ms/step\n"
     ]
    }
   ],
   "source": [
    "result = classifier.predict(X_test)\n"
   ]
  },
  {
   "cell_type": "code",
   "execution_count": 33,
   "metadata": {},
   "outputs": [
    {
     "name": "stdout",
     "output_type": "stream",
     "text": [
      "[[  3126.1396  ]\n",
      " [-22279.135   ]\n",
      " [-17194.025   ]\n",
      " ...\n",
      " [ -1817.8267  ]\n",
      " [   117.076904]\n",
      " [ -4936.196   ]]\n"
     ]
    }
   ],
   "source": [
    "print(result)"
   ]
  },
  {
   "cell_type": "code",
   "execution_count": null,
   "metadata": {},
   "outputs": [],
   "source": [
    "# Split into training sets \n",
    "\n",
    "X_train, X_test, Y_train, Y_test = pd.DataFrame()\n",
    "for dataset in jsonDatasets:\n",
    "    temp_X_train, temp_X_test, temp_Y_train, temp_Y_test = getTrainSplit(dataset)\n",
    "\n",
    "    X_train = pd.concat([X_train, temp_X_train], ignore_index=True)\n",
    "    X_test = pd.concat([X_test, temp_X_test], ignore_index=True)\n",
    "    Y_train = pd.concat([Y_train, temp_Y_train], ignore_index=True)\n",
    "    Y_test = pd.concat([Y_test, temp_Y_test], ignore_index=True)\n",
    "\n"
   ]
  }
 ],
 "metadata": {
  "kernelspec": {
   "display_name": "env",
   "language": "python",
   "name": "python3"
  },
  "language_info": {
   "codemirror_mode": {
    "name": "ipython",
    "version": 3
   },
   "file_extension": ".py",
   "mimetype": "text/x-python",
   "name": "python",
   "nbconvert_exporter": "python",
   "pygments_lexer": "ipython3",
   "version": "3.10.8"
  },
  "orig_nbformat": 4,
  "vscode": {
   "interpreter": {
    "hash": "5757b24d6f2c087b08b5643eae717903ae0f84ab364071998fc27a01bff12666"
   }
  }
 },
 "nbformat": 4,
 "nbformat_minor": 2
}
