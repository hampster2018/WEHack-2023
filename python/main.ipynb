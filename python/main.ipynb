{
 "cells": [
  {
   "cell_type": "code",
   "execution_count": 4,
   "metadata": {},
   "outputs": [],
   "source": [
    "## Some basic imports\n",
    "import numpy as np\n",
    "import matplotlib.pyplot as plt\n",
    "import pandas as pd"
   ]
  },
  {
   "cell_type": "code",
   "execution_count": 13,
   "metadata": {},
   "outputs": [
    {
     "name": "stdout",
     "output_type": "stream",
     "text": [
      "                             owner            mailadd  ll_gissqft  ll_gisacre  \\\n",
      "0          HARDY SAMANTHA GILMORE        110 E 7TH ST       15916     0.36537   \n",
      "1                   HUFFMAN JOHN E      321 S MAIN ST       12762     0.29297   \n",
      "2     HUDSPETH STEVEN WAYNE EST OF      2505 W 6TH ST        8085     0.18559   \n",
      "3     GONZALEZRIVERA SANTOS MARTIN  1205 ARROWHEAD DR        7220     0.16575   \n",
      "4                  GOMEZ FREDDY J        1438 ELMS RD        9004     0.20670   \n",
      "..                             ...                ...         ...         ...   \n",
      "259              TA PROPERTIES LTD   1537 PONTIUS AVE       58397     1.34057   \n",
      "260         LOCKNESS ZONE 1606 LLC                NaN       18682     0.42886   \n",
      "261                COLUMBIA RE LLC                NaN       23281     0.53445   \n",
      "262                       RIBITSCH  1405 VIA CATALUNA        8374     0.19224   \n",
      "263  COUNTRY HILLS INVESTMENTS LLC                NaN       18083     0.41512   \n",
      "\n",
      "     landval   parval         parcelnumb  qoz                  saledate  \\\n",
      "0      40000   193080  323185500A0010000   No                       NaN   \n",
      "1      63790   276580           3.20E+16   No                       NaN   \n",
      "2      35000   147410           3.26E+16   No                       NaN   \n",
      "3      25000   103660           3.25E+16   No                       NaN   \n",
      "4      22500   130710           3.22E+16   No                       NaN   \n",
      "..       ...      ...                ...  ...                       ...   \n",
      "259   360519  1162088         7351001021  Yes  1971-01-27T00:00:00.000Z   \n",
      "260  1664640  2809080         7347017039   No  2020-10-27T00:00:00.000Z   \n",
      "261  1414008  2676515         7347017042   No  2007-10-09T00:00:00.000Z   \n",
      "262    51494    82883         7347007023   No  1975-08-01T00:00:00.000Z   \n",
      "263  1388758  2083135         7347017045   No  2008-04-10T00:00:00.000Z   \n",
      "\n",
      "    zoning                 usedesc        zoning_description  structno  \\\n",
      "0        1             Residential  SINGLE FAMILY RESIDENCES       NaN   \n",
      "1        1             Residential  SINGLE FAMILY RESIDENCES       NaN   \n",
      "2        1             Residential  SINGLE FAMILY RESIDENCES       NaN   \n",
      "3        1             Residential  SINGLE FAMILY RESIDENCES       NaN   \n",
      "4        1             Residential  SINGLE FAMILY RESIDENCES       NaN   \n",
      "..     ...                     ...                       ...       ...   \n",
      "259   LAM2  Industrial Warehousing              Distribution   Storage   \n",
      "260   LAM2  Industrial Warehousing              Distribution   Storage   \n",
      "261   LAM2  Industrial Warehousing              Distribution   Storage   \n",
      "262  LARD2  Industrial Warehousing              Distribution   Storage   \n",
      "263   LAM2  Industrial Warehousing              Distribution   Storage   \n",
      "\n",
      "       City  recrdareano  saleprice  numstories  taxamt  \\\n",
      "0    Dallas            0        0.0           0       0   \n",
      "1    Dallas            0        0.0           0       0   \n",
      "2    Dallas            0        0.0           0       0   \n",
      "3    Dallas            0        0.0           0       0   \n",
      "4    Dallas            0        0.0           0       0   \n",
      "..      ...          ...        ...         ...     ...   \n",
      "259   Socal        42235        0.0           0       0   \n",
      "260   Socal         9638  2700027.0           0       0   \n",
      "261   Socal        11002  2120021.0           0       0   \n",
      "262   Socal         1960       -1.0           0       0   \n",
      "263   Socal         8620  1650016.0           0       0   \n",
      "\n",
      "                                           owner2 owner3  \n",
      "0                                             NaN    NaN  \n",
      "1                                             NaN    NaN  \n",
      "2                                             NaN    NaN  \n",
      "3                                             NaN    NaN  \n",
      "4                                             NaN    NaN  \n",
      "..                                            ...    ...  \n",
      "259                                            LP    NaN  \n",
      "260                              1602 LOCKNESS PL    NaN  \n",
      "261                              30235 VIA BORICA    NaN  \n",
      "262  ALFONS AND ALOISIA TRS RIBITSCH FAMILY TRUST    NaN  \n",
      "263                            22828 LOCKNESS AVE    NaN  \n",
      "\n",
      "[3978 rows x 20 columns]\n"
     ]
    }
   ],
   "source": [
    "## Loading the datasets\n",
    "\n",
    "dallas = pd.read_json('../Demographic/Dallas.json/Dallas.json')\n",
    "losAngeles = pd.read_json('../Demographic/Los Angeles.json/Los Angeles.json')\n",
    "philadelphia = pd.read_json('../Demographic/Philadelphia.json/Philadelphia.json')\n",
    "\n",
    "jsonDatasets = [dallas, losAngeles, philadelphia]\n",
    "\n",
    "parcelDallas = pd.read_csv('../parcelData/cleanDallas.csv')\n",
    "parcelPhiladelphia = pd.read_csv('../parcelData/cleanPhiladelphia.csv')\n",
    "parcelSocal = pd.read_csv('../parcelData/cleanSocal.csv')\n",
    "\n",
    "parcelDallas['City'] = 'Dallas'\n",
    "parcelPhiladelphia['City'] = 'Philadelpia'\n",
    "parcelSocal['City'] = 'Socal'\n",
    "\n",
    "parcelDallas['recrdareano'] = 0\n",
    "parcelDallas['saleprice'] = 0\n",
    "parcelDallas['numstories'] = 0\n",
    "parcelDallas['taxamt'] = 0\n",
    "\n",
    "parcelSocal['numstories'] = 0\n",
    "parcelSocal['taxamt'] = 0\n",
    "\n",
    "parcelCombined = pd.concat([parcelDallas, parcelPhiladelphia, parcelSocal])\n",
    "\n",
    "print(parcelCombined)"
   ]
  },
  {
   "cell_type": "code",
   "execution_count": 14,
   "metadata": {},
   "outputs": [
    {
     "name": "stdout",
     "output_type": "stream",
     "text": [
      "     ll_gissqft  ll_gisacre  landval   parval zoning    City  recrdareano  \\\n",
      "0         15916     0.36537    40000   193080      1  Dallas            0   \n",
      "1         12762     0.29297    63790   276580      1  Dallas            0   \n",
      "2          8085     0.18559    35000   147410      1  Dallas            0   \n",
      "3          7220     0.16575    25000   103660      1  Dallas            0   \n",
      "4          9004     0.20670    22500   130710      1  Dallas            0   \n",
      "..          ...         ...      ...      ...    ...     ...          ...   \n",
      "259       58397     1.34057   360519  1162088   LAM2   Socal        42235   \n",
      "260       18682     0.42886  1664640  2809080   LAM2   Socal         9638   \n",
      "261       23281     0.53445  1414008  2676515   LAM2   Socal        11002   \n",
      "262        8374     0.19224    51494    82883  LARD2   Socal         1960   \n",
      "263       18083     0.41512  1388758  2083135   LAM2   Socal         8620   \n",
      "\n",
      "     saleprice  numstories  taxamt  \n",
      "0          0.0           0       0  \n",
      "1          0.0           0       0  \n",
      "2          0.0           0       0  \n",
      "3          0.0           0       0  \n",
      "4          0.0           0       0  \n",
      "..         ...         ...     ...  \n",
      "259        0.0           0       0  \n",
      "260  2700027.0           0       0  \n",
      "261  2120021.0           0       0  \n",
      "262       -1.0           0       0  \n",
      "263  1650016.0           0       0  \n",
      "\n",
      "[3978 rows x 10 columns]\n"
     ]
    }
   ],
   "source": [
    "parcelCombined = parcelCombined.drop(['owner', 'owner2', 'owner3', 'mailadd', 'parcelnumb', 'qoz', 'saledate', 'zoning_description', 'structno', 'usedesc'], axis=1)\n",
    "print(parcelCombined)"
   ]
  },
  {
   "cell_type": "code",
   "execution_count": 15,
   "metadata": {},
   "outputs": [
    {
     "name": "stdout",
     "output_type": "stream",
     "text": [
      "     ll_gissqft  ll_gisacre  landval   parval  recrdareano  saleprice  \\\n",
      "0         15916     0.36537    40000   193080            0        0.0   \n",
      "1         12762     0.29297    63790   276580            0        0.0   \n",
      "2          8085     0.18559    35000   147410            0        0.0   \n",
      "3          7220     0.16575    25000   103660            0        0.0   \n",
      "4          9004     0.20670    22500   130710            0        0.0   \n",
      "..          ...         ...      ...      ...          ...        ...   \n",
      "259       58397     1.34057   360519  1162088        42235        0.0   \n",
      "260       18682     0.42886  1664640  2809080         9638  2700027.0   \n",
      "261       23281     0.53445  1414008  2676515        11002  2120021.0   \n",
      "262        8374     0.19224    51494    82883         1960       -1.0   \n",
      "263       18083     0.41512  1388758  2083135         8620  1650016.0   \n",
      "\n",
      "     numstories  taxamt  zone_0  zone_1  ...  zone_TOMPBLC  zone_TOMR-LM  \\\n",
      "0             0       0       0       1  ...             0             0   \n",
      "1             0       0       0       1  ...             0             0   \n",
      "2             0       0       0       1  ...             0             0   \n",
      "3             0       0       0       1  ...             0             0   \n",
      "4             0       0       0       1  ...             0             0   \n",
      "..          ...     ...     ...     ...  ...           ...           ...   \n",
      "259           0       0       0       0  ...             0             0   \n",
      "260           0       0       0       0  ...             0             0   \n",
      "261           0       0       0       0  ...             0             0   \n",
      "262           0       0       0       0  ...             0             0   \n",
      "263           0       0       0       0  ...             0             0   \n",
      "\n",
      "     zone_TOMR-MD  zone_TOMR-OF  zone_TOR3  zone_TORR-LO  zone_TORR-MD  \\\n",
      "0               0             0          0             0             0   \n",
      "1               0             0          0             0             0   \n",
      "2               0             0          0             0             0   \n",
      "3               0             0          0             0             0   \n",
      "4               0             0          0             0             0   \n",
      "..            ...           ...        ...           ...           ...   \n",
      "259             0             0          0             0             0   \n",
      "260             0             0          0             0             0   \n",
      "261             0             0          0             0             0   \n",
      "262             0             0          0             0             0   \n",
      "263             0             0          0             0             0   \n",
      "\n",
      "     zone_Dallas  zone_Philadelpia  zone_Socal  \n",
      "0              1                 0           0  \n",
      "1              1                 0           0  \n",
      "2              1                 0           0  \n",
      "3              1                 0           0  \n",
      "4              1                 0           0  \n",
      "..           ...               ...         ...  \n",
      "259            0                 0           1  \n",
      "260            0                 0           1  \n",
      "261            0                 0           1  \n",
      "262            0                 0           1  \n",
      "263            0                 0           1  \n",
      "\n",
      "[3978 rows x 63 columns]\n"
     ]
    }
   ],
   "source": [
    "from sklearn.preprocessing import OneHotEncoder\n",
    "\n",
    "parcelCombined = pd.get_dummies(parcelCombined, columns=['zoning'], prefix='zone')\n",
    "parcelCombined = pd.get_dummies(parcelCombined, columns=['City'], prefix='zone')\n",
    "print(parcelCombined)"
   ]
  },
  {
   "cell_type": "code",
   "execution_count": 16,
   "metadata": {},
   "outputs": [],
   "source": [
    "X = parcelCombined.loc[:, parcelCombined.columns != 'landval']\n",
    "y = parcelCombined['landval']"
   ]
  },
  {
   "cell_type": "code",
   "execution_count": 17,
   "metadata": {},
   "outputs": [],
   "source": [
    "from sklearn.model_selection import train_test_split\n",
    "\n",
    "\n",
    "X_train, X_test, y_train, y_test = train_test_split(X, y, test_size=.8, random_state=1)"
   ]
  },
  {
   "cell_type": "code",
   "execution_count": 18,
   "metadata": {},
   "outputs": [],
   "source": [
    "# Start putting together the neural network \n",
    "import keras\n",
    "from keras.models import Sequential\n",
    "from keras.layers import Dense\n",
    "from keras import Input"
   ]
  },
  {
   "cell_type": "code",
   "execution_count": 19,
   "metadata": {},
   "outputs": [],
   "source": [
    "# Declare the classifier\n",
    "classifier = Sequential()"
   ]
  },
  {
   "cell_type": "code",
   "execution_count": 20,
   "metadata": {},
   "outputs": [
    {
     "name": "stdout",
     "output_type": "stream",
     "text": [
      "Model: \"sequential\"\n",
      "_________________________________________________________________\n",
      " Layer (type)                Output Shape              Param #   \n",
      "=================================================================\n",
      " dense (Dense)               (None, 11)                242       \n",
      "                                                                 \n",
      " dense_1 (Dense)             (None, 11)                132       \n",
      "                                                                 \n",
      " dense_2 (Dense)             (None, 1)                 12        \n",
      "                                                                 \n",
      "=================================================================\n",
      "Total params: 386\n",
      "Trainable params: 386\n",
      "Non-trainable params: 0\n",
      "_________________________________________________________________\n"
     ]
    }
   ],
   "source": [
    "# TODO - Add the incoming shape\n",
    "classifier.add(Input(shape=21))\n",
    "classifier.add(Dense(units=11, activation='relu'))\n",
    "classifier.add(Dense(units=11, activation='relu'))\n",
    "classifier.add(Dense(units=1))\n",
    "\n",
    "classifier.summary()"
   ]
  },
  {
   "cell_type": "code",
   "execution_count": 21,
   "metadata": {},
   "outputs": [],
   "source": [
    "# Compile the model\n",
    "classifier.compile(optimizer = 'adam', loss = 'binary_crossentropy', metrics = ['accuracy'])"
   ]
  },
  {
   "cell_type": "code",
   "execution_count": 22,
   "metadata": {},
   "outputs": [
    {
     "ename": "TypeError",
     "evalue": "Model.fit() got an unexpected keyword argument 'nb_epoch'",
     "output_type": "error",
     "traceback": [
      "\u001b[1;31m---------------------------------------------------------------------------\u001b[0m",
      "\u001b[1;31mTypeError\u001b[0m                                 Traceback (most recent call last)",
      "Cell \u001b[1;32mIn[22], line 2\u001b[0m\n\u001b[0;32m      1\u001b[0m \u001b[39m# Train the model\u001b[39;00m\n\u001b[1;32m----> 2\u001b[0m classifier\u001b[39m.\u001b[39;49mfit(X_train, y_train, batch_size \u001b[39m=\u001b[39;49m \u001b[39m10\u001b[39;49m, nb_epoch \u001b[39m=\u001b[39;49m \u001b[39m100\u001b[39;49m)\n",
      "File \u001b[1;32mc:\\Users\\Eric\\repo\\WEHack-2023\\python\\env\\lib\\site-packages\\keras\\utils\\traceback_utils.py:70\u001b[0m, in \u001b[0;36mfilter_traceback.<locals>.error_handler\u001b[1;34m(*args, **kwargs)\u001b[0m\n\u001b[0;32m     67\u001b[0m     filtered_tb \u001b[39m=\u001b[39m _process_traceback_frames(e\u001b[39m.\u001b[39m__traceback__)\n\u001b[0;32m     68\u001b[0m     \u001b[39m# To get the full stack trace, call:\u001b[39;00m\n\u001b[0;32m     69\u001b[0m     \u001b[39m# `tf.debugging.disable_traceback_filtering()`\u001b[39;00m\n\u001b[1;32m---> 70\u001b[0m     \u001b[39mraise\u001b[39;00m e\u001b[39m.\u001b[39mwith_traceback(filtered_tb) \u001b[39mfrom\u001b[39;00m \u001b[39mNone\u001b[39m\n\u001b[0;32m     71\u001b[0m \u001b[39mfinally\u001b[39;00m:\n\u001b[0;32m     72\u001b[0m     \u001b[39mdel\u001b[39;00m filtered_tb\n",
      "File \u001b[1;32mc:\\Users\\Eric\\repo\\WEHack-2023\\python\\env\\lib\\site-packages\\keras\\utils\\traceback_utils.py:65\u001b[0m, in \u001b[0;36mfilter_traceback.<locals>.error_handler\u001b[1;34m(*args, **kwargs)\u001b[0m\n\u001b[0;32m     63\u001b[0m filtered_tb \u001b[39m=\u001b[39m \u001b[39mNone\u001b[39;00m\n\u001b[0;32m     64\u001b[0m \u001b[39mtry\u001b[39;00m:\n\u001b[1;32m---> 65\u001b[0m     \u001b[39mreturn\u001b[39;00m fn(\u001b[39m*\u001b[39margs, \u001b[39m*\u001b[39m\u001b[39m*\u001b[39mkwargs)\n\u001b[0;32m     66\u001b[0m \u001b[39mexcept\u001b[39;00m \u001b[39mException\u001b[39;00m \u001b[39mas\u001b[39;00m e:\n\u001b[0;32m     67\u001b[0m     filtered_tb \u001b[39m=\u001b[39m _process_traceback_frames(e\u001b[39m.\u001b[39m__traceback__)\n",
      "\u001b[1;31mTypeError\u001b[0m: Model.fit() got an unexpected keyword argument 'nb_epoch'"
     ]
    }
   ],
   "source": [
    "# Train the model\n",
    "classifier.fit(X_train, y_train, batch_size = 10, epochs = 100)"
   ]
  },
  {
   "cell_type": "code",
   "execution_count": null,
   "metadata": {},
   "outputs": [],
   "source": [
    "result = classifier.predict(X_test)"
   ]
  },
  {
   "cell_type": "code",
   "execution_count": null,
   "metadata": {},
   "outputs": [],
   "source": [
    "# Split into training sets \n",
    "\n",
    "X_train, X_test, Y_train, Y_test = pd.DataFrame()\n",
    "for dataset in jsonDatasets:\n",
    "    temp_X_train, temp_X_test, temp_Y_train, temp_Y_test = getTrainSplit(dataset)\n",
    "\n",
    "    X_train = pd.concat([X_train, temp_X_train], ignore_index=True)\n",
    "    X_test = pd.concat([X_test, temp_X_test], ignore_index=True)\n",
    "    Y_train = pd.concat([Y_train, temp_Y_train], ignore_index=True)\n",
    "    Y_test = pd.concat([Y_test, temp_Y_test], ignore_index=True)\n",
    "\n"
   ]
  }
 ],
 "metadata": {
  "kernelspec": {
   "display_name": "env",
   "language": "python",
   "name": "python3"
  },
  "language_info": {
   "codemirror_mode": {
    "name": "ipython",
    "version": 3
   },
   "file_extension": ".py",
   "mimetype": "text/x-python",
   "name": "python",
   "nbconvert_exporter": "python",
   "pygments_lexer": "ipython3",
   "version": "3.10.8"
  },
  "orig_nbformat": 4,
  "vscode": {
   "interpreter": {
    "hash": "5757b24d6f2c087b08b5643eae717903ae0f84ab364071998fc27a01bff12666"
   }
  }
 },
 "nbformat": 4,
 "nbformat_minor": 2
}
