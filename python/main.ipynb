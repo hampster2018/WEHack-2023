{
 "cells": [
  {
   "cell_type": "code",
   "execution_count": 1,
   "metadata": {},
   "outputs": [],
   "source": [
    "## Some basic imports\n",
    "import numpy as np\n",
    "import matplotlib.pyplot as plt\n",
    "import pandas as pd"
   ]
  },
  {
   "cell_type": "code",
   "execution_count": 12,
   "metadata": {},
   "outputs": [
    {
     "name": "stdout",
     "output_type": "stream",
     "text": [
      "               city        lng        lat  \\\n",
      "0            Dallas -97.167352  32.607739   \n",
      "1            Dallas -96.718005  32.902413   \n",
      "2            Dallas -97.017309  32.781689   \n",
      "3            Dallas -96.854292  32.679362   \n",
      "4            Dallas -96.770589  32.985323   \n",
      "...             ...        ...        ...   \n",
      "14045  Philadelphia -75.013961  40.145081   \n",
      "14046  Philadelphia -74.902059  40.103422   \n",
      "14047  Philadelphia -75.188758  40.000036   \n",
      "14048  Philadelphia -75.299942  39.956607   \n",
      "14049  Philadelphia -75.140953  39.963814   \n",
      "\n",
      "                                            demographics  \n",
      "0      {'commute_mode': {'type': 'percent', 'variable...  \n",
      "1      {'commute_mode': {'type': 'percent', 'variable...  \n",
      "2      {'commute_mode': {'type': 'percent', 'variable...  \n",
      "3      {'commute_mode': {'type': 'percent', 'variable...  \n",
      "4      {'commute_mode': {'type': 'percent', 'variable...  \n",
      "...                                                  ...  \n",
      "14045  {'commute_mode': {'type': 'percent', 'variable...  \n",
      "14046  {'commute_mode': {'type': 'percent', 'variable...  \n",
      "14047  {'commute_mode': {'type': 'percent', 'variable...  \n",
      "14048  {'commute_mode': {'type': 'percent', 'variable...  \n",
      "14049  {'commute_mode': {'type': 'percent', 'variable...  \n",
      "\n",
      "[14050 rows x 4 columns]\n"
     ]
    }
   ],
   "source": [
    "## Loading the datasets\n",
    "\n",
    "dallas = pd.read_json('../Demographic/Dallas.json/Dallas.json')\n",
    "losAngeles = pd.read_json('../Demographic/Los Angeles.json/Los Angeles.json')\n",
    "philadelphia = pd.read_json('../Demographic/Philadelphia.json/Philadelphia.json')\n",
    "\n",
    "datasets = [dallas, losAngeles, philadelphia]\n",
    "\n"
   ]
  },
  {
   "cell_type": "code",
   "execution_count": null,
   "metadata": {},
   "outputs": [],
   "source": [
    "## TODO define the predictors and target vars\n",
    "from sklearn.model_selection import train_test_split\n",
    "\n",
    "def getTrainSplit(dataset):\n",
    "   X = pd.DataFrame(dataset)\n",
    "   Y = dataset\n",
    "   temp_X_train, temp_X_test, temp_Y_train, temp_Y_test = train_test_split(X, Y)\n",
    "   return temp_X_train, temp_X_test, temp_Y_train, temp_Y_test"
   ]
  },
  {
   "cell_type": "code",
   "execution_count": null,
   "metadata": {},
   "outputs": [],
   "source": [
    "# Split into training sets \n",
    "\n",
    "X_train, X_test, Y_train, Y_test = pd.DataFrame()\n",
    "for dataset in datasets:\n",
    "    temp_X_train, temp_X_test, temp_Y_train, temp_Y_test = getTrainSplit(dataset)\n",
    "\n",
    "    X_train = pd.concat([X_train, temp_X_train], ignore_index=True)\n",
    "    X_test = pd.concat([X_test, temp_X_test], ignore_index=True)\n",
    "    Y_train = pd.concat([Y_train, temp_Y_train], ignore_index=True)\n",
    "    Y_test = pd.concat([Y_test, temp_Y_test], ignore_index=True)\n",
    "\n"
   ]
  },
  {
   "cell_type": "code",
   "execution_count": 14,
   "metadata": {},
   "outputs": [],
   "source": [
    "# Start putting together the neural network \n",
    "import keras\n",
    "from keras.models import Sequential\n",
    "from keras.layers import Dense\n",
    "from keras import Input"
   ]
  },
  {
   "cell_type": "code",
   "execution_count": null,
   "metadata": {},
   "outputs": [],
   "source": [
    "# Declare the classifier\n",
    "classifier = Sequential()"
   ]
  },
  {
   "cell_type": "code",
   "execution_count": null,
   "metadata": {},
   "outputs": [],
   "source": [
    "# TODO - Add the incoming shape\n",
    "classifier.add(Input(shape=4))\n",
    "classifier.add(Dense(units=11, activation='relu'))\n",
    "classifier.add(Dense(units=11, activation='relu'))\n",
    "classifier.add(Dense(units=1))\n",
    "\n",
    "classifier.summary()"
   ]
  },
  {
   "cell_type": "code",
   "execution_count": null,
   "metadata": {},
   "outputs": [],
   "source": [
    "# Compile the model\n",
    "classifier.compile(optimizer = 'adam', loss = 'binary_crossentropy', metrics = ['accuracy'])"
   ]
  },
  {
   "cell_type": "code",
   "execution_count": null,
   "metadata": {},
   "outputs": [],
   "source": [
    "# Train the model\n",
    "classifier.fit(X_train, Y_train, batch_size = 10, nb_epoch = 100)"
   ]
  },
  {
   "cell_type": "code",
   "execution_count": null,
   "metadata": {},
   "outputs": [],
   "source": [
    "result = classifier.predict(X_test)"
   ]
  }
 ],
 "metadata": {
  "kernelspec": {
   "display_name": "env",
   "language": "python",
   "name": "python3"
  },
  "language_info": {
   "codemirror_mode": {
    "name": "ipython",
    "version": 3
   },
   "file_extension": ".py",
   "mimetype": "text/x-python",
   "name": "python",
   "nbconvert_exporter": "python",
   "pygments_lexer": "ipython3",
   "version": "3.10.8"
  },
  "orig_nbformat": 4,
  "vscode": {
   "interpreter": {
    "hash": "5757b24d6f2c087b08b5643eae717903ae0f84ab364071998fc27a01bff12666"
   }
  }
 },
 "nbformat": 4,
 "nbformat_minor": 2
}
